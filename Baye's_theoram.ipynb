{
 "cells": [
  {
   "cell_type": "markdown",
   "id": "e18ed912-ae40-4001-98ee-7580dc708a84",
   "metadata": {},
   "source": [
    "<span style=color:red;font-size:60px>ASSIGNMENT</span>"
   ]
  },
  {
   "cell_type": "code",
   "execution_count": null,
   "id": "b5e7b1aa-4878-4557-a0d3-7777c8a05108",
   "metadata": {},
   "outputs": [],
   "source": [
    "<span style=color:green;font-size:55px>Naive Bay"
   ]
  }
 ],
 "metadata": {
  "kernelspec": {
   "display_name": "Python 3 (ipykernel)",
   "language": "python",
   "name": "python3"
  },
  "language_info": {
   "codemirror_mode": {
    "name": "ipython",
    "version": 3
   },
   "file_extension": ".py",
   "mimetype": "text/x-python",
   "name": "python",
   "nbconvert_exporter": "python",
   "pygments_lexer": "ipython3",
   "version": "3.10.8"
  }
 },
 "nbformat": 4,
 "nbformat_minor": 5
}
